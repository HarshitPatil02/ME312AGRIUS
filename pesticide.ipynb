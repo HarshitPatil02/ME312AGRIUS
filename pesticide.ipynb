{
  "nbformat": 4,
  "nbformat_minor": 0,
  "metadata": {
    "colab": {
      "provenance": []
    },
    "kernelspec": {
      "name": "python3",
      "display_name": "Python 3"
    },
    "language_info": {
      "name": "python"
    }
  },
  "cells": [
    {
      "cell_type": "code",
      "execution_count": null,
      "metadata": {
        "id": "nLGxymrW8aR3"
      },
      "outputs": [],
      "source": [
        "import pandas as pd\n",
        "\n",
        "# Read pH values from CSV\n",
        "ph_values = pd.read_csv('/content/ph_farm.csv')\n",
        "\n",
        "# Read filtered crops data from CSV\n",
        "filtered_crops = pd.read_csv('/content/filtered_crops.csv')\n",
        "\n",
        "# Parameters\n",
        "initial_yield = 0.5  # Initial yield of all cells\n",
        "yield_increase_per_gram_of_pesticide = 0.008  # Yield increase per gram of pesticide\n",
        "ph_increase_per_gram_of_pesticide = 0.05  # pH increase per gram of pesticide\n",
        "\n",
        "def calculate_optimal_yield_and_pesticide(crop_name, max_ph):\n",
        "    pesticide_grams = 0  # Initial pesticide usage\n",
        "    total_yield = 0  # Initial total yield\n",
        "    objective_value = row['objective_value']\n",
        "    for i in range(9):  # Assuming 10 rows\n",
        "        for j in range(10):  # Assuming 10 columns\n",
        "            ph = ph_values.iloc[i, j]  # Get pH value for current cell\n",
        "\n",
        "            if ph < max_ph:\n",
        "                ph_difference = max_ph - ph\n",
        "                pesticide_required = ph_difference / ph_increase_per_gram_of_pesticide\n",
        "                pesticide_grams += pesticide_required\n",
        "\n",
        "    if pesticide_grams * 0.008 > 30:\n",
        "       total_yield = 0.8\n",
        "    else:\n",
        "       total_yield = (pesticide_grams * 0.008 + 50) / 100\n",
        "\n",
        "    return pesticide_grams, total_yield\n",
        "\n",
        "pesticide_data_list = []\n",
        "\n",
        "for index, row in filtered_crops.iterrows():\n",
        "    crop_name = row['crops']\n",
        "    max_ph = row['max_ph']\n",
        "\n",
        "    pesticide_grams, total_yield = calculate_optimal_yield_and_pesticide(crop_name, max_ph)\n",
        "\n",
        "    pesticide_data_list.append({'crops': crop_name, 'total_cost': pesticide_grams, 'total_yield': total_yield})\n",
        "\n",
        "pesticide_data = pd.DataFrame(pesticide_data_list)\n",
        "\n",
        "# Save pesticide usage data to CSV\n",
        "pesticide_data.to_csv('pesticide_usage.csv', index=False)\n"
      ]
    }
  ]
}