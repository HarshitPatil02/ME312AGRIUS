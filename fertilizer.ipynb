{
  "nbformat": 4,
  "nbformat_minor": 0,
  "metadata": {
    "colab": {
      "provenance": []
    },
    "kernelspec": {
      "name": "python3",
      "display_name": "Python 3"
    },
    "language_info": {
      "name": "python"
    }
  },
  "cells": [
    {
      "cell_type": "code",
      "execution_count": 1,
      "metadata": {
        "colab": {
          "base_uri": "https://localhost:8080/"
        },
        "id": "pnX-StRHrMvM",
        "outputId": "d5c9b169-4317-466a-ca81-771100b5a456"
      },
      "outputs": [
        {
          "output_type": "stream",
          "name": "stdout",
          "text": [
            "\u001b[2K     \u001b[90m━━━━━━━━━━━━━━━━━━━━━━━━━━━━━━━━━━━━━━━━\u001b[0m \u001b[32m12.7/12.7 MB\u001b[0m \u001b[31m24.4 MB/s\u001b[0m eta \u001b[36m0:00:00\u001b[0m\n",
            "\u001b[2K     \u001b[90m━━━━━━━━━━━━━━━━━━━━━━━━━━━━━━━━━━━━━━━━\u001b[0m \u001b[32m49.6/49.6 kB\u001b[0m \u001b[31m4.8 MB/s\u001b[0m eta \u001b[36m0:00:00\u001b[0m\n",
            "\u001b[?25h"
          ]
        }
      ],
      "source": [
        "!pip install -q pyomo"
      ]
    },
    {
      "cell_type": "code",
      "source": [
        "pip install pyomo.contrib.pynumero\n"
      ],
      "metadata": {
        "colab": {
          "base_uri": "https://localhost:8080/"
        },
        "id": "C5BdURej5raj",
        "outputId": "c5f97a57-4be4-47ef-b85f-7843684107d2"
      },
      "execution_count": 2,
      "outputs": [
        {
          "output_type": "stream",
          "name": "stdout",
          "text": [
            "\u001b[31mERROR: Could not find a version that satisfies the requirement pyomo.contrib.pynumero (from versions: none)\u001b[0m\u001b[31m\n",
            "\u001b[0m\u001b[31mERROR: No matching distribution found for pyomo.contrib.pynumero\u001b[0m\u001b[31m\n",
            "\u001b[0m"
          ]
        }
      ]
    },
    {
      "cell_type": "code",
      "source": [
        "!pip install gurobipy"
      ],
      "metadata": {
        "colab": {
          "base_uri": "https://localhost:8080/"
        },
        "id": "_cvN8TyW5tSG",
        "outputId": "fcc51eac-b833-4478-8314-3c1013120bf9"
      },
      "execution_count": 3,
      "outputs": [
        {
          "output_type": "stream",
          "name": "stdout",
          "text": [
            "Collecting gurobipy\n",
            "  Downloading gurobipy-11.0.1-cp310-cp310-manylinux2014_x86_64.manylinux_2_17_x86_64.whl (13.4 MB)\n",
            "\u001b[2K     \u001b[90m━━━━━━━━━━━━━━━━━━━━━━━━━━━━━━━━━━━━━━━━\u001b[0m \u001b[32m13.4/13.4 MB\u001b[0m \u001b[31m27.1 MB/s\u001b[0m eta \u001b[36m0:00:00\u001b[0m\n",
            "\u001b[?25hInstalling collected packages: gurobipy\n",
            "Successfully installed gurobipy-11.0.1\n"
          ]
        }
      ]
    },
    {
      "cell_type": "code",
      "source": [
        "!apt-get install -y -qq coinor-cbc"
      ],
      "metadata": {
        "colab": {
          "base_uri": "https://localhost:8080/"
        },
        "id": "S2Qhhjna5u74",
        "outputId": "c319fcf6-262a-497e-d72a-cd58e127e246"
      },
      "execution_count": 4,
      "outputs": [
        {
          "output_type": "stream",
          "name": "stdout",
          "text": [
            "Selecting previously unselected package coinor-libcoinutils3v5:amd64.\n",
            "(Reading database ... 121920 files and directories currently installed.)\n",
            "Preparing to unpack .../0-coinor-libcoinutils3v5_2.11.4+repack1-2_amd64.deb ...\n",
            "Unpacking coinor-libcoinutils3v5:amd64 (2.11.4+repack1-2) ...\n",
            "Selecting previously unselected package coinor-libosi1v5:amd64.\n",
            "Preparing to unpack .../1-coinor-libosi1v5_0.108.6+repack1-2_amd64.deb ...\n",
            "Unpacking coinor-libosi1v5:amd64 (0.108.6+repack1-2) ...\n",
            "Selecting previously unselected package coinor-libclp1.\n",
            "Preparing to unpack .../2-coinor-libclp1_1.17.5+repack1-1_amd64.deb ...\n",
            "Unpacking coinor-libclp1 (1.17.5+repack1-1) ...\n",
            "Selecting previously unselected package coinor-libcgl1:amd64.\n",
            "Preparing to unpack .../3-coinor-libcgl1_0.60.3+repack1-3_amd64.deb ...\n",
            "Unpacking coinor-libcgl1:amd64 (0.60.3+repack1-3) ...\n",
            "Selecting previously unselected package coinor-libcbc3:amd64.\n",
            "Preparing to unpack .../4-coinor-libcbc3_2.10.7+ds1-1_amd64.deb ...\n",
            "Unpacking coinor-libcbc3:amd64 (2.10.7+ds1-1) ...\n",
            "Selecting previously unselected package coinor-cbc.\n",
            "Preparing to unpack .../5-coinor-cbc_2.10.7+ds1-1_amd64.deb ...\n",
            "Unpacking coinor-cbc (2.10.7+ds1-1) ...\n",
            "Setting up coinor-libcoinutils3v5:amd64 (2.11.4+repack1-2) ...\n",
            "Setting up coinor-libosi1v5:amd64 (0.108.6+repack1-2) ...\n",
            "Setting up coinor-libclp1 (1.17.5+repack1-1) ...\n",
            "Setting up coinor-libcgl1:amd64 (0.60.3+repack1-3) ...\n",
            "Setting up coinor-libcbc3:amd64 (2.10.7+ds1-1) ...\n",
            "Setting up coinor-cbc (2.10.7+ds1-1) ...\n",
            "Processing triggers for man-db (2.10.2-1) ...\n",
            "Processing triggers for libc-bin (2.35-0ubuntu3.4) ...\n",
            "/sbin/ldconfig.real: /usr/local/lib/libtbbbind_2_0.so.3 is not a symbolic link\n",
            "\n",
            "/sbin/ldconfig.real: /usr/local/lib/libtbbmalloc.so.2 is not a symbolic link\n",
            "\n",
            "/sbin/ldconfig.real: /usr/local/lib/libtbbmalloc_proxy.so.2 is not a symbolic link\n",
            "\n",
            "/sbin/ldconfig.real: /usr/local/lib/libtbbbind.so.3 is not a symbolic link\n",
            "\n",
            "/sbin/ldconfig.real: /usr/local/lib/libtbbbind_2_5.so.3 is not a symbolic link\n",
            "\n",
            "/sbin/ldconfig.real: /usr/local/lib/libtbb.so.12 is not a symbolic link\n",
            "\n"
          ]
        }
      ]
    },
    {
      "cell_type": "code",
      "source": [
        "import pandas as pd\n",
        "\n",
        "crop_data = pd.read_csv('/content/crops_type_conditions.csv')\n",
        "\n",
        "# Ask user for input of temperature and pH\n",
        "temp = float(input(\"Enter temperature: \"))\n",
        "ph = float(input(\"Enter pH: \"))\n",
        "\n",
        "# Filter crops based on temperature and pH\n",
        "filtered_crops = crop_data[\n",
        "    (crop_data['min_temp'] <= temp) & (crop_data['max_temp'] >= temp) &\n",
        "    (crop_data['min_ph'] <= ph) & (crop_data['max_ph'] >= ph)\n",
        "]\n",
        "\n",
        "# Display filtered crops\n",
        "if len(filtered_crops) > 0:\n",
        "    print(\"Crops suitable for the given temperature and pH:\")\n",
        "    print(filtered_crops['crops'])\n",
        "else:\n",
        "    print(\"No crops found for the given temperature and pH.\")\n",
        "\n",
        "# Store the filtered crops for later use\n",
        "filtered_crops.to_csv('/content/filtered_crops.csv', index=False)"
      ],
      "metadata": {
        "colab": {
          "base_uri": "https://localhost:8080/"
        },
        "id": "j4JFT6Ub5wVO",
        "outputId": "13092ac8-c901-480b-ecfd-bcaa67fb0c0c"
      },
      "execution_count": 5,
      "outputs": [
        {
          "output_type": "stream",
          "name": "stdout",
          "text": [
            "Enter temperature: 30\n",
            "Enter pH: 7\n",
            "Crops suitable for the given temperature and pH:\n",
            "0                  rice चावल\n",
            "1                wheat गेहूँ\n",
            "3                maize मक्का\n",
            "4          soyabean सोया बीन\n",
            "5            sugarcane गन्ना\n",
            "6                   oat ओएटी\n",
            "7               sorghum चारा\n",
            "8         pearl millet बाजरा\n",
            "9               berseem चारा\n",
            "10          watermelon तरबूज\n",
            "11               melon तरबूज\n",
            "12       sweet potato शकरकंद\n",
            "13             cucumber खीरा\n",
            "14         pepper काली मिर्च\n",
            "15    sweet corn स्वीट कॉर्न\n",
            "17              tomato टमाटर\n",
            "18               onion प्याज\n",
            "19              garlic लहसुन\n",
            "22              lettuce सलाद\n",
            "Name: crops, dtype: object\n"
          ]
        }
      ]
    },
    {
      "cell_type": "code",
      "source": [
        "import pandas as pd\n",
        "import random\n",
        "\n",
        "# Load the CSV file\n",
        "# Assuming the CSV file is named 'crop_data.csv' and located in the current directory\n",
        "file_path = '/content/filtered_crops.csv'\n",
        "df = pd.read_csv(file_path)\n",
        "\n",
        "# Add random values for req_n, req_p, and req_k columns\n",
        "df['req_n'] = [random.randint(40, 60) for _ in range(len(df))]\n",
        "df['req_p'] = [random.randint(25, 40) for _ in range(len(df))]\n",
        "df['req_k'] = [random.randint(15, 30) for _ in range(len(df))]\n",
        "df['req_water'] = [random.randint(40, 55) for _ in range(len(df))]\n",
        "df['yield_1'] = [random.uniform(0.8, 1) for _ in range(len(df))]\n",
        "df['yield_2'] = [random.uniform(0.8, 1) for _ in range(len(df))]\n",
        "df['yield_3'] = [random.uniform(0.8, 1) for _ in range(len(df))]\n",
        "df['labour_cost_1'] = [random.randint(200, 500) for _ in range(len(df))]\n",
        "df['labour_cost_2'] = [random.randint(200, 500) for _ in range(len(df))]\n",
        "df['labour_cost_3'] = [random.randint(200, 500) for _ in range(len(df))]\n",
        "df['cost_1'] = [random.randint(10, 40) for _ in range(len(df))]\n",
        "df['cost_2'] = [random.randint(20, 45) for _ in range(len(df))]\n",
        "df['cost_3'] = [random.randint(10, 40) for _ in range(len(df))]\n",
        "\n",
        "\n",
        "# Save the modified DataFrame back to CSV\n",
        "output_file_path = 'npk_water_crop_data.csv'\n",
        "df.to_csv(output_file_path, index=False)\n"
      ],
      "metadata": {
        "id": "d-qw9SZu52e7"
      },
      "execution_count": 6,
      "outputs": []
    },
    {
      "cell_type": "code",
      "source": [
        "import pandas as pd\n",
        "\n",
        "crop_data = pd.read_csv(\"/content/npk_water_crop_data.csv\")\n",
        "\n",
        "n_data = pd.read_csv(\"/content/farm_heatmap_N (1).csv\")\n",
        "p_data = pd.read_csv(\"/content/farm_heatmap_P (1).csv\")\n",
        "k_data = pd.read_csv(\"/content/farm_heatmap_K (1).csv\")\n",
        "water_data = pd.read_csv(\"/content/farm_heatmap_water_final.csv\")\n",
        "\n",
        "for index, row in crop_data.iterrows():\n",
        "    crop_name = row['crops']\n",
        "    req_n = row['req_n']\n",
        "    req_p = row['req_p']\n",
        "    req_k = row['req_k']\n",
        "    req_water = row['req_water']\n",
        "\n",
        "    n_diff = -1*(n_data - req_n)\n",
        "\n",
        "    p_diff = -1*(p_data - req_p)\n",
        "\n",
        "    k_diff = -1*(k_data - req_k)\n",
        "\n",
        "    water_diff = (req_water - water_data)\n",
        "\n",
        "    n_diff.to_csv(f\"{crop_name}_n_diff.csv\", index=False)\n",
        "    p_diff.to_csv(f\"{crop_name}_p_diff.csv\", index=False)\n",
        "    k_diff.to_csv(f\"{crop_name}_k_diff.csv\", index=False)\n",
        "    water_diff.to_csv(f\"{crop_name}_water_diff.csv\", index=False)"
      ],
      "metadata": {
        "id": "JqeGZ0YW54EN"
      },
      "execution_count": 7,
      "outputs": []
    },
    {
      "cell_type": "code",
      "source": [
        "import pandas as pd\n",
        "import numpy as np\n",
        "\n",
        "def calculate_fertilizer_requirements(crop_name):\n",
        "    df_desired_N = pd.read_csv(f'{crop_name}_n_diff.csv')\n",
        "    df_desired_P = pd.read_csv(f'{crop_name}_p_diff.csv')\n",
        "    df_desired_K = pd.read_csv(f'{crop_name}_k_diff.csv')\n",
        "\n",
        "    final_N_array = np.zeros((10, 10))\n",
        "    final_P_array = np.zeros((10, 10))\n",
        "    final_K_array = np.zeros((10, 10))\n",
        "    cost_per_unit_array = np.zeros((10, 10))\n",
        "\n",
        "    for i in range(9):\n",
        "        for j in range(10):\n",
        "            desired_N = df_desired_N.iloc[i, j]\n",
        "            desired_P = df_desired_P.iloc[i, j]\n",
        "            desired_K = df_desired_K.iloc[i, j]\n",
        "\n",
        "            if desired_K != 0:\n",
        "                normalized_N = desired_N / desired_K\n",
        "                normalized_P = desired_P / desired_K\n",
        "                normalized_K = desired_K / desired_K\n",
        "\n",
        "            df_ratio_fertilizers = pd.read_csv('/content/ratio_fertilizers.csv')\n",
        "\n",
        "            closest_x = None\n",
        "            best_N = None\n",
        "            best_P = None\n",
        "            best_cost_per_unit = None\n",
        "\n",
        "            for index, row in df_ratio_fertilizers.iterrows():\n",
        "                N = row['Nitro_N']\n",
        "                P = row['Phos_P']\n",
        "                cost_per_unit = row['cost']\n",
        "\n",
        "                temp_x = (normalized_N / N) / (normalized_P / P)\n",
        "\n",
        "                diff_from_1 = np.abs(temp_x - 1)\n",
        "\n",
        "                if closest_x is None or diff_from_1 < np.abs(closest_x - 1):\n",
        "                    closest_x = temp_x\n",
        "                    best_N = N\n",
        "                    best_P = P\n",
        "                    best_cost_per_unit = cost_per_unit\n",
        "\n",
        "            amount_of_fertilizer_needed = desired_N / best_N\n",
        "\n",
        "            final_N = (desired_N / best_N) * best_N\n",
        "            final_P = (desired_N / best_N) * best_P\n",
        "            final_K = (desired_N / best_N) * normalized_K\n",
        "\n",
        "            final_N_array[i, j] = final_N\n",
        "            final_P_array[i, j] = final_P\n",
        "            final_K_array[i, j] = final_K\n",
        "            cost_per_unit_array[i, j] = best_cost_per_unit\n",
        "\n",
        "    pd.DataFrame(final_N_array).to_csv(f'final_N_{crop_name}.csv', index=False, header=False)\n",
        "    pd.DataFrame(final_P_array).to_csv(f'final_P_{crop_name}.csv', index=False, header=False)\n",
        "    pd.DataFrame(final_K_array).to_csv(f'final_K_{crop_name}.csv', index=False, header=False)\n",
        "    pd.DataFrame(cost_per_unit_array).to_csv(f'cost_per_unit_{crop_name}.csv', index=False, header=False)\n",
        "\n",
        "\n",
        "    return cost_per_unit_array.sum()\n",
        "\n",
        "\n",
        "crop_names_df = pd.read_csv(\"/content/filtered_crops.csv\")\n",
        "crop_names = crop_names_df['crops'].tolist()\n",
        "\n",
        "\n",
        "total_cost_per_crop = {}\n",
        "\n",
        "\n",
        "for crop in crop_names:\n",
        "    total_cost = calculate_fertilizer_requirements(crop)\n",
        "    total_cost_per_crop[crop] = total_cost\n",
        "\n",
        "    import pandas as pd\n",
        "\n",
        "\n",
        "total_cost_df = pd.DataFrame.from_dict(total_cost_per_crop, orient='index', columns=['total_cost'])\n",
        "total_cost_df.index.name = 'crops'  # Set the name of the index column\n",
        "total_cost_df.to_csv('total_cost_per_crop.csv', index=True, header=True)"
      ],
      "metadata": {
        "id": "Yb2Tcic758O_"
      },
      "execution_count": 9,
      "outputs": []
    },
    {
      "cell_type": "code",
      "source": [
        "import pandas as pd\n",
        "import numpy as np\n",
        "\n",
        "def calculate_fertilizer_requirements(crop_name):\n",
        "    df_desired_N = pd.read_csv(f'{crop_name}_n_diff.csv')\n",
        "    df_desired_P = pd.read_csv(f'{crop_name}_p_diff.csv')\n",
        "    df_desired_K = pd.read_csv(f'{crop_name}_k_diff.csv')\n",
        "\n",
        "    final_N_array = np.zeros((10, 10))\n",
        "    final_P_array = np.zeros((10, 10))\n",
        "    final_K_array = np.zeros((10, 10))\n",
        "    cost_per_unit_array = np.zeros((10, 10))\n",
        "    amount_of_fertilizer_needed_array = np.zeros((10, 10))  # Array to store the amount of fertilizer needed\n",
        "\n",
        "    for i in range(9):\n",
        "        for j in range(10):\n",
        "            desired_N = df_desired_N.iloc[i, j]\n",
        "            desired_P = df_desired_P.iloc[i, j]\n",
        "            desired_K = df_desired_K.iloc[i, j]\n",
        "\n",
        "            if desired_K != 0:\n",
        "                normalized_N = desired_N / desired_K\n",
        "                normalized_P = desired_P / desired_K\n",
        "                normalized_K = desired_K / desired_K\n",
        "\n",
        "            df_ratio_fertilizers = pd.read_csv('/content/ratio_fertilizers.csv')\n",
        "\n",
        "            closest_x = None\n",
        "            best_N = None\n",
        "            best_P = None\n",
        "            best_cost_per_unit = None\n",
        "\n",
        "            for index, row in df_ratio_fertilizers.iterrows():\n",
        "                N = row['Nitro_N']\n",
        "                P = row['Phos_P']\n",
        "                cost_per_unit = row['cost']\n",
        "\n",
        "                temp_x = (normalized_N / N) / (normalized_P / P)\n",
        "\n",
        "                diff_from_1 = np.abs(temp_x - 1)\n",
        "\n",
        "                if closest_x is None or diff_from_1 < np.abs(closest_x - 1):\n",
        "                    closest_x = temp_x\n",
        "                    best_N = N\n",
        "                    best_P = P\n",
        "                    best_cost_per_unit = cost_per_unit\n",
        "\n",
        "            amount_of_fertilizer_needed = desired_N / best_N\n",
        "\n",
        "            final_N = (desired_N / best_N) * best_N\n",
        "            final_P = (desired_N / best_N) * best_P\n",
        "            final_K = (desired_N / best_N) * normalized_K\n",
        "\n",
        "            final_N_array[i, j] = final_N\n",
        "            final_P_array[i, j] = final_P\n",
        "            final_K_array[i, j] = final_K\n",
        "            cost_per_unit_array[i, j] = best_cost_per_unit\n",
        "            amount_of_fertilizer_needed_array[i, j] = amount_of_fertilizer_needed  # Store the amount of fertilizer needed\n",
        "\n",
        "    pd.DataFrame(final_N_array).to_csv(f'final_N_{crop_name}.csv', index=False, header=False)\n",
        "    pd.DataFrame(final_P_array).to_csv(f'final_P_{crop_name}.csv', index=False, header=False)\n",
        "    pd.DataFrame(final_K_array).to_csv(f'final_K_{crop_name}.csv', index=False, header=False)\n",
        "    pd.DataFrame(cost_per_unit_array).to_csv(f'cost_per_unit_{crop_name}.csv', index=False, header=False)\n",
        "    pd.DataFrame(amount_of_fertilizer_needed_array).to_csv(f'amount_of_fertilizer_needed_{crop_name}.csv', index=False, header=False)  # Save amount of fertilizer needed\n",
        "\n",
        "    # Return the total cost and amount of fertilizer needed\n",
        "    return cost_per_unit_array.sum(), amount_of_fertilizer_needed_array.sum()\n",
        "\n",
        "crop_names_df = pd.read_csv(\"/content/filtered_crops.csv\")\n",
        "crop_names = crop_names_df['crops'].tolist()\n",
        "\n",
        "total_cost_per_crop = {}\n",
        "total_fertilizer_per_crop = {}  # Dictionary to store the total amount of fertilizer needed per crop\n",
        "\n",
        "for crop in crop_names:\n",
        "    total_cost, total_fertilizer = calculate_fertilizer_requirements(crop)  # Retrieve total cost and total amount of fertilizer\n",
        "    total_cost_per_crop[crop] = total_cost\n",
        "    total_fertilizer_per_crop[crop] = total_fertilizer  # Store total amount of fertilizer\n",
        "\n",
        "total_cost_df = pd.DataFrame.from_dict(total_cost_per_crop, orient='index', columns=['total_cost'])\n",
        "total_cost_df.index.name = 'crops'\n",
        "total_cost_df.to_csv('total_cost_per_crop.csv', index=True, header=True)\n",
        "\n",
        "total_fertilizer_df = pd.DataFrame.from_dict(total_fertilizer_per_crop, orient='index', columns=['total_fertilizer'])\n",
        "total_fertilizer_df.index.name = 'crops'\n",
        "total_fertilizer_df.to_csv('total_fertilizer_per_crop.csv', index=True, header=True)\n"
      ],
      "metadata": {
        "id": "aG5k_3_K598a"
      },
      "execution_count": 10,
      "outputs": []
    }
  ]
}