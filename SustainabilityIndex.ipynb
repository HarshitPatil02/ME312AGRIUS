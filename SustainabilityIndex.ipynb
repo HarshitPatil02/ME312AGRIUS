{
  "nbformat": 4,
  "nbformat_minor": 0,
  "metadata": {
    "colab": {
      "provenance": []
    },
    "kernelspec": {
      "name": "python3",
      "display_name": "Python 3"
    },
    "language_info": {
      "name": "python"
    }
  },
  "cells": [
    {
      "cell_type": "code",
      "execution_count": null,
      "metadata": {
        "id": "aHbzZ2rT9Bd-"
      },
      "outputs": [],
      "source": [
        "import pandas as pd\n",
        "import matplotlib.pyplot as plt\n",
        "\n",
        "# Read data from CSV files\n",
        "df1 = pd.read_csv('total_fertilizer_per_crop.csv')\n",
        "df2 = pd.read_csv('pesticide_usage.csv')\n",
        "df3=  pd.read_csv('/content/filtered_crops.csv')\n",
        "df4 = pd.read_csv('subtraction_result.csv')\n",
        "\n",
        "sustainability_index= (100-df3['objective_value'])*0.2/100 + df1['total_fertilizer']*0.3/3000 + df2['total_cost']*0.5/3750\n",
        "\n",
        "final_df = pd.DataFrame({'crops': df1['crops'], 'Sustainability Index': 1- sustainability_index})\n",
        "\n",
        "final_df.to_csv('final_result.csv', index=False)\n",
        "print(final_df)"
      ]
    }
  ]
}