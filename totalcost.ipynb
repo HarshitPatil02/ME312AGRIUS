{
  "nbformat": 4,
  "nbformat_minor": 0,
  "metadata": {
    "colab": {
      "provenance": []
    },
    "kernelspec": {
      "name": "python3",
      "display_name": "Python 3"
    },
    "language_info": {
      "name": "python"
    }
  },
  "cells": [
    {
      "cell_type": "code",
      "execution_count": null,
      "metadata": {
        "id": "Qwhw3FvH8sGH"
      },
      "outputs": [],
      "source": [
        "import pandas as pd\n",
        "\n",
        "# Read the first CSV file\n",
        "df1 = pd.read_csv('/content/total_cost_per_crop.csv')\n",
        "\n",
        "# Read the second CSV file\n",
        "df2 = pd.read_csv('/content/pesticide_usage.csv')\n",
        "\n",
        "df3= pd.read_csv('/content/filtered_crops_with_labour_cost.csv')\n",
        "\n",
        "# Rename columns in df2 to match df1\n",
        "df2 = df2.rename(columns={'Crop': 'crop', 'Pesticide Grams': 'pesticide_grams', 'total_yield': 'total_yield'})\n",
        "\n",
        "# Calculate total cost for each row by summing up values from both CSVs\n",
        "total_costs = df1['total_cost'] + df2['total_cost'] +df3['labour_cost']\n",
        "\n",
        "# Add total_cost column to each DataFrame\n",
        "df1['total_cost'] = total_costs\n",
        "\n",
        "# Combine both DataFrames\n",
        "combined_df = pd.concat([df1], ignore_index=True)\n",
        "\n",
        "# Display the combined DataFrame\n",
        "print(combined_df)\n",
        "\n",
        "# Save the combined DataFrame to a CSV file\n",
        "combined_df.to_csv('combined_costs.csv', index=False)"
      ]
    }
  ]
}