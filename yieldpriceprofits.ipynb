{
  "nbformat": 4,
  "nbformat_minor": 0,
  "metadata": {
    "colab": {
      "provenance": []
    },
    "kernelspec": {
      "name": "python3",
      "display_name": "Python 3"
    },
    "language_info": {
      "name": "python"
    }
  },
  "cells": [
    {
      "cell_type": "code",
      "execution_count": null,
      "metadata": {
        "id": "pDqgrHaR80zU"
      },
      "outputs": [],
      "source": [
        "import pandas as pd\n",
        "\n",
        "# Read the required CSV files\n",
        "total_yield_df = pd.read_csv('pesticide_usage.csv')\n",
        "selling_cost_df = pd.read_csv('/content/filtered_crops.csv')\n",
        "objective_value_df = pd.read_csv('/content/filtered_crops.csv')\n",
        "number_of_available_blocks_df = pd.read_csv('/content/filtered_crops.csv')\n",
        "\n",
        "# Calculate 'grass_land' based on 'objective_value_df'\n",
        "grass_land = 100 - objective_value_df['objective_value']\n",
        "\n",
        "# Copy the 'total_yield_df' DataFrame to 'result_df'\n",
        "result_df = total_yield_df.copy()\n",
        "\n",
        "# Perform the multiplication operation and add 'grass_land'\n",
        "result_df['final_price'] = (result_df['total_yield'] * selling_cost_df['selling_cost'] *\n",
        "                            number_of_available_blocks_df['objective_value'] * 20 +\n",
        "                            grass_land * 100)\n",
        "\n",
        "# Rename columns\n",
        "result_df = result_df.rename(columns={'total_yield': 'Total_yield'})\n",
        "\n",
        "# Save the result to CSV\n",
        "result_df.to_csv('selling_price.csv', index=False)\n",
        "\n",
        "# Read the 'selling_price.csv' file\n",
        "selling_price_df = pd.read_csv('selling_price.csv')\n",
        "\n",
        "# Display the DataFrame\n",
        "print(selling_price_df)\n"
      ]
    },
    {
      "cell_type": "code",
      "source": [
        "import pandas as pd\n",
        "import matplotlib.pyplot as plt\n",
        "\n",
        "# Read data from CSV files\n",
        "df1 = pd.read_csv('combined_costs.csv')\n",
        "df2 = pd.read_csv('selling_price.csv')\n",
        "\n",
        "# Calculate potential profits\n",
        "result = df2['final_price'] - df1['total_cost']\n",
        "\n",
        "# Find crop with maximum profit\n",
        "max_crop = result.idxmax()\n",
        "max_value = result[max_crop]\n",
        "\n",
        "print(\"Crop with Maximum Profits:\", df1.loc[max_crop, 'crops'])\n",
        "print(\"Potential Profits:\", max_value)\n",
        "\n",
        "# Create a DataFrame for visualization\n",
        "subtraction_df = pd.DataFrame({'crops': df1['crops'], 'Potential Profits': result})\n",
        "\n",
        "# Sort DataFrame by 'Potential Profits' in descending order\n",
        "subtraction_df = subtraction_df.sort_values(by='Potential Profits', ascending=False)\n",
        "\n",
        "# Plotting\n",
        "plt.figure(figsize=(10, 6))\n",
        "plt.barh(subtraction_df['crops'], subtraction_df['Potential Profits'], color='skyblue')\n",
        "plt.xlabel('Potential Profits')\n",
        "plt.ylabel('Crops')\n",
        "plt.title('Potential Profits of Different Crops')\n",
        "plt.grid(axis='x')\n",
        "plt.show()\n",
        "\n",
        "# Save results to CSV\n",
        "subtraction_df.to_csv('subtraction_result.csv', index=False)\n"
      ],
      "metadata": {
        "id": "G-cVI6j584dS"
      },
      "execution_count": null,
      "outputs": []
    }
  ]
}