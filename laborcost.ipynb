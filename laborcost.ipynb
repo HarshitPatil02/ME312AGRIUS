{
  "nbformat": 4,
  "nbformat_minor": 0,
  "metadata": {
    "colab": {
      "provenance": []
    },
    "kernelspec": {
      "name": "python3",
      "display_name": "Python 3"
    },
    "language_info": {
      "name": "python"
    }
  },
  "cells": [
    {
      "cell_type": "code",
      "execution_count": null,
      "metadata": {
        "id": "WSmNBTwN8jIG"
      },
      "outputs": [],
      "source": [
        "import pandas as pd\n",
        "from gurobipy import *\n",
        "\n",
        "df = pd.read_csv('/content/filtered_crops.csv')\n",
        "\n",
        "min_values = []\n",
        "\n",
        "for index, row in df.iterrows():\n",
        "    crop_name = row['crops']\n",
        "    k_value = row['objective_value']\n",
        "\n",
        "    m = Model()\n",
        "\n",
        "    x = m.addVar(vtype=GRB.INTEGER, name=\"x\", lb=0, ub=11)\n",
        "    y = m.addVar(vtype=GRB.INTEGER, name=\"y\", lb=0, ub=9)\n",
        "    a = m.addVar(vtype=GRB.INTEGER, name=\"a\", lb=0, ub=15)\n",
        "    m.setObjective(a * x * 100 + a * y * 200, GRB.MINIMIZE)\n",
        "\n",
        "    m.addConstr(k_value == a * (x * 0.5 + y * 0.8), \"constraint\")\n",
        "\n",
        "    m.optimize()\n",
        "\n",
        "    min_value = m.objVal\n",
        "\n",
        "    print(f\"{crop_name}: {min_value}\")\n",
        "\n",
        "    min_values.append(min_value)\n",
        "\n",
        "df['labour_cost'] = min_values\n",
        "\n",
        "df.to_csv('/content/filtered_crops_with_labour_cost.csv', index=False)\n"
      ]
    }
  ]
}